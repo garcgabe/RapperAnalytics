{
 "cells": [
  {
   "cell_type": "code",
   "execution_count": 1,
   "metadata": {},
   "outputs": [],
   "source": [
    "# Importing modules for usage\n",
    "import os\n",
    "import pandas as pd\n",
    "import numpy as np\n",
    "import seaborn as sb\n",
    "import matplotlib.pyplot as plt\n",
    "\n",
    "# Change directory to file with artist Excel data from prior Jupyter file\n",
    "os.chdir('/Users/garcgabe/Downloads/side work/artists')"
   ]
  },
  {
   "cell_type": "markdown",
   "metadata": {},
   "source": [
    "The following dataset involves the Total amount of each artists top 50 more popular songs by pageviews. This means the music may or may not be on Spotify, as the data was pulled from Genius"
   ]
  },
  {
   "cell_type": "code",
   "execution_count": 27,
   "metadata": {},
   "outputs": [],
   "source": [
    "# Initialize arrays for new DF creation\n",
    "names, totals, weight_topsong, top10, bottom40, difference, weight_top10,  = ([] for i in range(7))\n",
    "\n",
    "# count variable for easier access into arrays while looping\n",
    "count = 0\n",
    "for file in os.listdir():\n",
    "    if 'Total' in file:\n",
    "        name = file.split('Total')[0]\n",
    "        names.append(name)\n",
    "        # Temporarily create Pandas DF to read data\n",
    "        temp = pd.read_excel(file)\n",
    "        top10.append(sum(temp[0:10]['PageViews']))\n",
    "        bottom40.append(sum(temp[11:]['PageViews']))\n",
    "        totals.append(top10[count] + bottom40[count])\n",
    "        difference.append(sum(temp[0:10]['PageViews']) - sum(temp[11:]['PageViews']))\n",
    "        weight_topsong.append(round((temp.loc[0]['PageViews'] / sum(temp[0:]['PageViews'] )),3))\n",
    "        weight_top10.append(top10[count] / (top10[count]+bottom40[count]))\n",
    "        count+=1\n",
    "        \n",
    "# Creation of DF\n",
    "total_df = pd.DataFrame(index = names)\n",
    "# Merging arrays / creating columns with their names\n",
    "total_df['totals'] = totals\n",
    "total_df['top10'] = top10\n",
    "total_df['bottom40'] = bottom40\n",
    "total_df['difference'] = difference\n",
    "total_df['weight_topsong'] = weight_topsong\n",
    "total_df['weight_top10'] = weight_top10\n"
   ]
  },
  {
   "cell_type": "markdown",
   "metadata": {},
   "source": [
    "Variable Definitions for each artist's top 50 songs:\n",
    "    \n",
    "    totals = the total number of Genius pageviews for the top 50 songs of the artist\n",
    "    \n",
    "    top10 = sum of pageviews for the top 10 most viewed songs on Genius\n",
    "    bottom40 = sum of pageviews for the bottom 40 most viewed songs on Genius\n",
    "    difference = top10 - bottom40 --> used to see how the 80/20 is weighted for each artist\n",
    "    \n",
    "    Weight Metrics:\n",
    "\n",
    "    weight_topsong = the top song's pageviews divided by the artist's total pageviews\n",
    "    weight_top10 = the sum of the top 10 songs' pageviews divided by the artist's total pageviews"
   ]
  },
  {
   "cell_type": "code",
   "execution_count": 28,
   "metadata": {
    "scrolled": true
   },
   "outputs": [
    {
     "data": {
      "text/html": [
       "<div>\n",
       "<style scoped>\n",
       "    .dataframe tbody tr th:only-of-type {\n",
       "        vertical-align: middle;\n",
       "    }\n",
       "\n",
       "    .dataframe tbody tr th {\n",
       "        vertical-align: top;\n",
       "    }\n",
       "\n",
       "    .dataframe thead th {\n",
       "        text-align: right;\n",
       "    }\n",
       "</style>\n",
       "<table border=\"1\" class=\"dataframe\">\n",
       "  <thead>\n",
       "    <tr style=\"text-align: right;\">\n",
       "      <th></th>\n",
       "      <th>totals</th>\n",
       "      <th>top10</th>\n",
       "      <th>bottom40</th>\n",
       "      <th>difference</th>\n",
       "      <th>weight_topsong</th>\n",
       "      <th>weight_top10</th>\n",
       "    </tr>\n",
       "  </thead>\n",
       "  <tbody>\n",
       "    <tr>\n",
       "      <th>Migos</th>\n",
       "      <td>32028817</td>\n",
       "      <td>22527609</td>\n",
       "      <td>9501208</td>\n",
       "      <td>13026401</td>\n",
       "      <td>0.277</td>\n",
       "      <td>0.703354</td>\n",
       "    </tr>\n",
       "    <tr>\n",
       "      <th>BigSean</th>\n",
       "      <td>32135358</td>\n",
       "      <td>21817416</td>\n",
       "      <td>10317942</td>\n",
       "      <td>11499474</td>\n",
       "      <td>0.141</td>\n",
       "      <td>0.678922</td>\n",
       "    </tr>\n",
       "    <tr>\n",
       "      <th>RoddyRicch</th>\n",
       "      <td>9739988</td>\n",
       "      <td>7248964</td>\n",
       "      <td>2491024</td>\n",
       "      <td>4757940</td>\n",
       "      <td>0.321</td>\n",
       "      <td>0.744248</td>\n",
       "    </tr>\n",
       "    <tr>\n",
       "      <th>ScHoolboyQ</th>\n",
       "      <td>15547525</td>\n",
       "      <td>9917337</td>\n",
       "      <td>5630188</td>\n",
       "      <td>4287149</td>\n",
       "      <td>0.173</td>\n",
       "      <td>0.637872</td>\n",
       "    </tr>\n",
       "    <tr>\n",
       "      <th>21Savage</th>\n",
       "      <td>13958916</td>\n",
       "      <td>8980218</td>\n",
       "      <td>4978698</td>\n",
       "      <td>4001520</td>\n",
       "      <td>0.194</td>\n",
       "      <td>0.643332</td>\n",
       "    </tr>\n",
       "    <tr>\n",
       "      <th>KodakBlack</th>\n",
       "      <td>17525506</td>\n",
       "      <td>10469017</td>\n",
       "      <td>7056489</td>\n",
       "      <td>3412528</td>\n",
       "      <td>0.134</td>\n",
       "      <td>0.597359</td>\n",
       "    </tr>\n",
       "    <tr>\n",
       "      <th>JuiceWRLD</th>\n",
       "      <td>27042974</td>\n",
       "      <td>15171434</td>\n",
       "      <td>11871540</td>\n",
       "      <td>3299894</td>\n",
       "      <td>0.165</td>\n",
       "      <td>0.561012</td>\n",
       "    </tr>\n",
       "    <tr>\n",
       "      <th>TravisScott</th>\n",
       "      <td>55914403</td>\n",
       "      <td>29552335</td>\n",
       "      <td>26362068</td>\n",
       "      <td>3190267</td>\n",
       "      <td>0.154</td>\n",
       "      <td>0.528528</td>\n",
       "    </tr>\n",
       "    <tr>\n",
       "      <th>WizKhalifa</th>\n",
       "      <td>14023234</td>\n",
       "      <td>8454549</td>\n",
       "      <td>5568685</td>\n",
       "      <td>2885864</td>\n",
       "      <td>0.289</td>\n",
       "      <td>0.602896</td>\n",
       "    </tr>\n",
       "    <tr>\n",
       "      <th>A$APRocky</th>\n",
       "      <td>39388897</td>\n",
       "      <td>21090721</td>\n",
       "      <td>18298176</td>\n",
       "      <td>2792545</td>\n",
       "      <td>0.189</td>\n",
       "      <td>0.535448</td>\n",
       "    </tr>\n",
       "  </tbody>\n",
       "</table>\n",
       "</div>"
      ],
      "text/plain": [
       "               totals     top10  bottom40  difference  weight_topsong  \\\n",
       "Migos        32028817  22527609   9501208    13026401           0.277   \n",
       "BigSean      32135358  21817416  10317942    11499474           0.141   \n",
       "RoddyRicch    9739988   7248964   2491024     4757940           0.321   \n",
       "ScHoolboyQ   15547525   9917337   5630188     4287149           0.173   \n",
       "21Savage     13958916   8980218   4978698     4001520           0.194   \n",
       "KodakBlack   17525506  10469017   7056489     3412528           0.134   \n",
       "JuiceWRLD    27042974  15171434  11871540     3299894           0.165   \n",
       "TravisScott  55914403  29552335  26362068     3190267           0.154   \n",
       "WizKhalifa   14023234   8454549   5568685     2885864           0.289   \n",
       "A$APRocky    39388897  21090721  18298176     2792545           0.189   \n",
       "\n",
       "             weight_top10  \n",
       "Migos            0.703354  \n",
       "BigSean          0.678922  \n",
       "RoddyRicch       0.744248  \n",
       "ScHoolboyQ       0.637872  \n",
       "21Savage         0.643332  \n",
       "KodakBlack       0.597359  \n",
       "JuiceWRLD        0.561012  \n",
       "TravisScott      0.528528  \n",
       "WizKhalifa       0.602896  \n",
       "A$APRocky        0.535448  "
      ]
     },
     "execution_count": 28,
     "metadata": {},
     "output_type": "execute_result"
    }
   ],
   "source": [
    "# Values sorted by difference\n",
    "total_df.sort_values('difference', ascending=False).head(10)"
   ]
  },
  {
   "cell_type": "code",
   "execution_count": 29,
   "metadata": {
    "scrolled": true
   },
   "outputs": [
    {
     "data": {
      "text/html": [
       "<div>\n",
       "<style scoped>\n",
       "    .dataframe tbody tr th:only-of-type {\n",
       "        vertical-align: middle;\n",
       "    }\n",
       "\n",
       "    .dataframe tbody tr th {\n",
       "        vertical-align: top;\n",
       "    }\n",
       "\n",
       "    .dataframe thead th {\n",
       "        text-align: right;\n",
       "    }\n",
       "</style>\n",
       "<table border=\"1\" class=\"dataframe\">\n",
       "  <thead>\n",
       "    <tr style=\"text-align: right;\">\n",
       "      <th></th>\n",
       "      <th>totals</th>\n",
       "      <th>top10</th>\n",
       "      <th>bottom40</th>\n",
       "      <th>difference</th>\n",
       "      <th>weight_topsong</th>\n",
       "      <th>weight_top10</th>\n",
       "    </tr>\n",
       "  </thead>\n",
       "  <tbody>\n",
       "    <tr>\n",
       "      <th>RoddyRicch</th>\n",
       "      <td>9739988</td>\n",
       "      <td>7248964</td>\n",
       "      <td>2491024</td>\n",
       "      <td>4757940</td>\n",
       "      <td>0.321</td>\n",
       "      <td>0.744248</td>\n",
       "    </tr>\n",
       "    <tr>\n",
       "      <th>WizKhalifa</th>\n",
       "      <td>14023234</td>\n",
       "      <td>8454549</td>\n",
       "      <td>5568685</td>\n",
       "      <td>2885864</td>\n",
       "      <td>0.289</td>\n",
       "      <td>0.602896</td>\n",
       "    </tr>\n",
       "    <tr>\n",
       "      <th>Migos</th>\n",
       "      <td>32028817</td>\n",
       "      <td>22527609</td>\n",
       "      <td>9501208</td>\n",
       "      <td>13026401</td>\n",
       "      <td>0.277</td>\n",
       "      <td>0.703354</td>\n",
       "    </tr>\n",
       "    <tr>\n",
       "      <th>LilUziVert</th>\n",
       "      <td>33362038</td>\n",
       "      <td>17822800</td>\n",
       "      <td>15539238</td>\n",
       "      <td>2283562</td>\n",
       "      <td>0.235</td>\n",
       "      <td>0.534224</td>\n",
       "    </tr>\n",
       "    <tr>\n",
       "      <th>DaBaby</th>\n",
       "      <td>8596475</td>\n",
       "      <td>5283743</td>\n",
       "      <td>3312732</td>\n",
       "      <td>1971011</td>\n",
       "      <td>0.216</td>\n",
       "      <td>0.614641</td>\n",
       "    </tr>\n",
       "    <tr>\n",
       "      <th>21Savage</th>\n",
       "      <td>13958916</td>\n",
       "      <td>8980218</td>\n",
       "      <td>4978698</td>\n",
       "      <td>4001520</td>\n",
       "      <td>0.194</td>\n",
       "      <td>0.643332</td>\n",
       "    </tr>\n",
       "    <tr>\n",
       "      <th>PushaT</th>\n",
       "      <td>11737348</td>\n",
       "      <td>6849961</td>\n",
       "      <td>4887387</td>\n",
       "      <td>1962574</td>\n",
       "      <td>0.189</td>\n",
       "      <td>0.583604</td>\n",
       "    </tr>\n",
       "    <tr>\n",
       "      <th>A$APRocky</th>\n",
       "      <td>39388897</td>\n",
       "      <td>21090721</td>\n",
       "      <td>18298176</td>\n",
       "      <td>2792545</td>\n",
       "      <td>0.189</td>\n",
       "      <td>0.535448</td>\n",
       "    </tr>\n",
       "    <tr>\n",
       "      <th>VinceStaples</th>\n",
       "      <td>4917983</td>\n",
       "      <td>2675294</td>\n",
       "      <td>2242689</td>\n",
       "      <td>432605</td>\n",
       "      <td>0.173</td>\n",
       "      <td>0.543982</td>\n",
       "    </tr>\n",
       "    <tr>\n",
       "      <th>ScHoolboyQ</th>\n",
       "      <td>15547525</td>\n",
       "      <td>9917337</td>\n",
       "      <td>5630188</td>\n",
       "      <td>4287149</td>\n",
       "      <td>0.173</td>\n",
       "      <td>0.637872</td>\n",
       "    </tr>\n",
       "  </tbody>\n",
       "</table>\n",
       "</div>"
      ],
      "text/plain": [
       "                totals     top10  bottom40  difference  weight_topsong  \\\n",
       "RoddyRicch     9739988   7248964   2491024     4757940           0.321   \n",
       "WizKhalifa    14023234   8454549   5568685     2885864           0.289   \n",
       "Migos         32028817  22527609   9501208    13026401           0.277   \n",
       "LilUziVert    33362038  17822800  15539238     2283562           0.235   \n",
       "DaBaby         8596475   5283743   3312732     1971011           0.216   \n",
       "21Savage      13958916   8980218   4978698     4001520           0.194   \n",
       "PushaT        11737348   6849961   4887387     1962574           0.189   \n",
       "A$APRocky     39388897  21090721  18298176     2792545           0.189   \n",
       "VinceStaples   4917983   2675294   2242689      432605           0.173   \n",
       "ScHoolboyQ    15547525   9917337   5630188     4287149           0.173   \n",
       "\n",
       "              weight_top10  \n",
       "RoddyRicch        0.744248  \n",
       "WizKhalifa        0.602896  \n",
       "Migos             0.703354  \n",
       "LilUziVert        0.534224  \n",
       "DaBaby            0.614641  \n",
       "21Savage          0.643332  \n",
       "PushaT            0.583604  \n",
       "A$APRocky         0.535448  \n",
       "VinceStaples      0.543982  \n",
       "ScHoolboyQ        0.637872  "
      ]
     },
     "execution_count": 29,
     "metadata": {},
     "output_type": "execute_result"
    }
   ],
   "source": [
    "# Values sorted by top song's weight\n",
    "total_df.sort_values('weight_topsong', ascending=False).head(10)"
   ]
  },
  {
   "cell_type": "code",
   "execution_count": 30,
   "metadata": {},
   "outputs": [
    {
     "data": {
      "text/html": [
       "<div>\n",
       "<style scoped>\n",
       "    .dataframe tbody tr th:only-of-type {\n",
       "        vertical-align: middle;\n",
       "    }\n",
       "\n",
       "    .dataframe tbody tr th {\n",
       "        vertical-align: top;\n",
       "    }\n",
       "\n",
       "    .dataframe thead th {\n",
       "        text-align: right;\n",
       "    }\n",
       "</style>\n",
       "<table border=\"1\" class=\"dataframe\">\n",
       "  <thead>\n",
       "    <tr style=\"text-align: right;\">\n",
       "      <th></th>\n",
       "      <th>totals</th>\n",
       "      <th>top10</th>\n",
       "      <th>bottom40</th>\n",
       "      <th>difference</th>\n",
       "      <th>weight_topsong</th>\n",
       "      <th>weight_top10</th>\n",
       "    </tr>\n",
       "  </thead>\n",
       "  <tbody>\n",
       "    <tr>\n",
       "      <th>RoddyRicch</th>\n",
       "      <td>9739988</td>\n",
       "      <td>7248964</td>\n",
       "      <td>2491024</td>\n",
       "      <td>4757940</td>\n",
       "      <td>0.321</td>\n",
       "      <td>0.744248</td>\n",
       "    </tr>\n",
       "    <tr>\n",
       "      <th>Migos</th>\n",
       "      <td>32028817</td>\n",
       "      <td>22527609</td>\n",
       "      <td>9501208</td>\n",
       "      <td>13026401</td>\n",
       "      <td>0.277</td>\n",
       "      <td>0.703354</td>\n",
       "    </tr>\n",
       "    <tr>\n",
       "      <th>BigSean</th>\n",
       "      <td>32135358</td>\n",
       "      <td>21817416</td>\n",
       "      <td>10317942</td>\n",
       "      <td>11499474</td>\n",
       "      <td>0.141</td>\n",
       "      <td>0.678922</td>\n",
       "    </tr>\n",
       "    <tr>\n",
       "      <th>21Savage</th>\n",
       "      <td>13958916</td>\n",
       "      <td>8980218</td>\n",
       "      <td>4978698</td>\n",
       "      <td>4001520</td>\n",
       "      <td>0.194</td>\n",
       "      <td>0.643332</td>\n",
       "    </tr>\n",
       "    <tr>\n",
       "      <th>ScHoolboyQ</th>\n",
       "      <td>15547525</td>\n",
       "      <td>9917337</td>\n",
       "      <td>5630188</td>\n",
       "      <td>4287149</td>\n",
       "      <td>0.173</td>\n",
       "      <td>0.637872</td>\n",
       "    </tr>\n",
       "    <tr>\n",
       "      <th>DaBaby</th>\n",
       "      <td>8596475</td>\n",
       "      <td>5283743</td>\n",
       "      <td>3312732</td>\n",
       "      <td>1971011</td>\n",
       "      <td>0.216</td>\n",
       "      <td>0.614641</td>\n",
       "    </tr>\n",
       "    <tr>\n",
       "      <th>WizKhalifa</th>\n",
       "      <td>14023234</td>\n",
       "      <td>8454549</td>\n",
       "      <td>5568685</td>\n",
       "      <td>2885864</td>\n",
       "      <td>0.289</td>\n",
       "      <td>0.602896</td>\n",
       "    </tr>\n",
       "    <tr>\n",
       "      <th>KodakBlack</th>\n",
       "      <td>17525506</td>\n",
       "      <td>10469017</td>\n",
       "      <td>7056489</td>\n",
       "      <td>3412528</td>\n",
       "      <td>0.134</td>\n",
       "      <td>0.597359</td>\n",
       "    </tr>\n",
       "    <tr>\n",
       "      <th>PushaT</th>\n",
       "      <td>11737348</td>\n",
       "      <td>6849961</td>\n",
       "      <td>4887387</td>\n",
       "      <td>1962574</td>\n",
       "      <td>0.189</td>\n",
       "      <td>0.583604</td>\n",
       "    </tr>\n",
       "    <tr>\n",
       "      <th>LilBaby</th>\n",
       "      <td>12940441</td>\n",
       "      <td>7261750</td>\n",
       "      <td>5678691</td>\n",
       "      <td>1583059</td>\n",
       "      <td>0.092</td>\n",
       "      <td>0.561167</td>\n",
       "    </tr>\n",
       "  </tbody>\n",
       "</table>\n",
       "</div>"
      ],
      "text/plain": [
       "              totals     top10  bottom40  difference  weight_topsong  \\\n",
       "RoddyRicch   9739988   7248964   2491024     4757940           0.321   \n",
       "Migos       32028817  22527609   9501208    13026401           0.277   \n",
       "BigSean     32135358  21817416  10317942    11499474           0.141   \n",
       "21Savage    13958916   8980218   4978698     4001520           0.194   \n",
       "ScHoolboyQ  15547525   9917337   5630188     4287149           0.173   \n",
       "DaBaby       8596475   5283743   3312732     1971011           0.216   \n",
       "WizKhalifa  14023234   8454549   5568685     2885864           0.289   \n",
       "KodakBlack  17525506  10469017   7056489     3412528           0.134   \n",
       "PushaT      11737348   6849961   4887387     1962574           0.189   \n",
       "LilBaby     12940441   7261750   5678691     1583059           0.092   \n",
       "\n",
       "            weight_top10  \n",
       "RoddyRicch      0.744248  \n",
       "Migos           0.703354  \n",
       "BigSean         0.678922  \n",
       "21Savage        0.643332  \n",
       "ScHoolboyQ      0.637872  \n",
       "DaBaby          0.614641  \n",
       "WizKhalifa      0.602896  \n",
       "KodakBlack      0.597359  \n",
       "PushaT          0.583604  \n",
       "LilBaby         0.561167  "
      ]
     },
     "execution_count": 30,
     "metadata": {},
     "output_type": "execute_result"
    }
   ],
   "source": [
    "# Values sorted by top 10 song's weight\n",
    "total_df.sort_values('weight_top10', ascending=False).head(10)"
   ]
  },
  {
   "cell_type": "code",
   "execution_count": 7,
   "metadata": {},
   "outputs": [
    {
     "name": "stdout",
     "output_type": "stream",
     "text": [
      "Share of top rappers: 0.462%\n",
      "Total Pageviews for top 18 rappers: 985643466\n",
      "Total Pageviews for bottom 21 rappers: 259357842\n",
      "Difference: 726285624\n",
      "Share for Top Artists: 0.792%\n"
     ]
    }
   ],
   "source": [
    "# The top 7 most popular rappers (by PageViews) have 39,534,780 more PageViews than the bottom 32 rappers\n",
    "# share of top rappers\n",
    "top = 18\n",
    "# 39 minus number of top rappers used\n",
    "bottom = len(total_df)-top\n",
    "share = top/len(total_df)\n",
    "top_num = sum(total_df.sort_values('totals', ascending=False)['totals'].head(top))\n",
    "bottom_num = sum(total_df.sort_values('totals', ascending=False)['totals'].tail(bottom))\n",
    "diff_nums = top_num - bottom_num\n",
    "top_percent = round(top_num/(top_num+bottom_num),3)\n",
    "print('Share of top rappers: ' + str(round(share,3)) + '%')\n",
    "print('Total Pageviews for top ' + str(top)+' rappers: '+str(top_num) + '\\n' 'Total Pageviews for bottom '\n",
    "      + str(bottom)+' rappers: '+str(bottom_num) + '\\n' + 'Difference: '+str(diff_nums) + '\\nShare for Top Artists: '\n",
    "     +str(top_percent)+'%')\n",
    "\n",
    "# This conclusion shows up that the 80/20 rule does not show up for pageviews in rap artists"
   ]
  },
  {
   "cell_type": "code",
   "execution_count": 8,
   "metadata": {},
   "outputs": [
    {
     "name": "stdout",
     "output_type": "stream",
     "text": [
      "145193691.0\n",
      "146818822\n"
     ]
    }
   ],
   "source": [
    "# Drake has 2 million less PageViews than the bottom 13 rappers: WIz Khalifa, 21 Savage, Earl Sweatshirt, Lil Baby, \n",
    "# Pop Smoke, Trippie Redd, Pusha T, Polo G, Roddy Ricch, DaBaby, Lil Durk, Gunna, Isaiah Rashad, and Vince Staples\n",
    "\n",
    "print(total_df.loc['Drake']['totals'])\n",
    "print(sum(total_df.sort_values('totals', ascending=False)['totals'].tail(14)))"
   ]
  },
  {
   "cell_type": "code",
   "execution_count": 9,
   "metadata": {
    "scrolled": true
   },
   "outputs": [
    {
     "data": {
      "text/plain": [
       "count    3.900000e+01\n",
       "mean    -5.007973e+05\n",
       "std      7.608869e+06\n",
       "min     -3.306924e+07\n",
       "25%     -8.157335e+05\n",
       "50%      5.208140e+05\n",
       "75%      2.630336e+06\n",
       "max      1.302640e+07\n",
       "Name: difference, dtype: float64"
      ]
     },
     "execution_count": 9,
     "metadata": {},
     "output_type": "execute_result"
    }
   ],
   "source": [
    "total_df['difference'].describe()"
   ]
  },
  {
   "cell_type": "code",
   "execution_count": 10,
   "metadata": {},
   "outputs": [
    {
     "data": {
      "text/plain": [
       "<AxesSubplot:xlabel='totals', ylabel='weight_topsong'>"
      ]
     },
     "execution_count": 10,
     "metadata": {},
     "output_type": "execute_result"
    },
    {
     "data": {
      "image/png": "[encoded data removed]",
      "text/plain": [
       "<Figure size 432x288 with 1 Axes>"
      ]
     },
     "metadata": {
      "needs_background": "light"
     },
     "output_type": "display_data"
    }
   ],
   "source": [
    "# We see that the top 5 artists in terms of total pageviews usually have a low weight of their top songs, except\n",
    "# for Eminem, who stands out slightly for having a top song weight of 0.143.\n",
    " \n",
    "sb.scatterplot(data=total_df, x='totals',y='weight_topsong')"
   ]
  },
  {
   "cell_type": "code",
   "execution_count": 11,
   "metadata": {
    "scrolled": true
   },
   "outputs": [
    {
     "data": {
      "text/plain": [
       "<AxesSubplot:xlabel='totals', ylabel='weight_top10'>"
      ]
     },
     "execution_count": 11,
     "metadata": {},
     "output_type": "execute_result"
    },
    {
     "data": {
      "image/png": "[encoded data removed]",
      "text/plain": [
       "<Figure size 432x288 with 1 Axes>"
      ]
     },
     "metadata": {
      "needs_background": "light"
     },
     "output_type": "display_data"
    }
   ],
   "source": [
    "sb.scatterplot(data=total_df, x='totals',y='weight_top10')"
   ]
  },
  {
   "cell_type": "code",
   "execution_count": 31,
   "metadata": {},
   "outputs": [],
   "source": [
    "total_df_diffsort = total_df.sort_values(by='difference')[3:]"
   ]
  },
  {
   "cell_type": "code",
   "execution_count": 32,
   "metadata": {},
   "outputs": [
    {
     "data": {
      "text/plain": [
       "<AxesSubplot:xlabel='difference', ylabel='weight_top10'>"
      ]
     },
     "execution_count": 32,
     "metadata": {},
     "output_type": "execute_result"
    },
    {
     "data": {
      "image/png": "[encoded data removed]",
      "text/plain": [
       "<Figure size 432x288 with 1 Axes>"
      ]
     },
     "metadata": {
      "needs_background": "light"
     },
     "output_type": "display_data"
    }
   ],
   "source": [
    "sb.scatterplot(data=total_df_diffsort, x='difference',y='weight_top10')"
   ]
  },
  {
   "cell_type": "code",
   "execution_count": 15,
   "metadata": {},
   "outputs": [
    {
     "data": {
      "text/html": [
       "<div>\n",
       "<style scoped>\n",
       "    .dataframe tbody tr th:only-of-type {\n",
       "        vertical-align: middle;\n",
       "    }\n",
       "\n",
       "    .dataframe tbody tr th {\n",
       "        vertical-align: top;\n",
       "    }\n",
       "\n",
       "    .dataframe thead th {\n",
       "        text-align: right;\n",
       "    }\n",
       "</style>\n",
       "<table border=\"1\" class=\"dataframe\">\n",
       "  <thead>\n",
       "    <tr style=\"text-align: right;\">\n",
       "      <th></th>\n",
       "      <th>totals</th>\n",
       "      <th>top10</th>\n",
       "      <th>bottom40</th>\n",
       "      <th>difference</th>\n",
       "      <th>weight_topsong</th>\n",
       "      <th>weight_top10</th>\n",
       "    </tr>\n",
       "  </thead>\n",
       "  <tbody>\n",
       "    <tr>\n",
       "      <th>Drake</th>\n",
       "      <td>145193691</td>\n",
       "      <td>56062224</td>\n",
       "      <td>89131467</td>\n",
       "      <td>-33069243</td>\n",
       "      <td>0.060</td>\n",
       "      <td>0.386120</td>\n",
       "    </tr>\n",
       "    <tr>\n",
       "      <th>KendrickLamar</th>\n",
       "      <td>119890848</td>\n",
       "      <td>57623168</td>\n",
       "      <td>62267680</td>\n",
       "      <td>-4644512</td>\n",
       "      <td>0.089</td>\n",
       "      <td>0.480630</td>\n",
       "    </tr>\n",
       "    <tr>\n",
       "      <th>Eminem</th>\n",
       "      <td>117834177</td>\n",
       "      <td>57671444</td>\n",
       "      <td>60162733</td>\n",
       "      <td>-2491289</td>\n",
       "      <td>0.143</td>\n",
       "      <td>0.489429</td>\n",
       "    </tr>\n",
       "    <tr>\n",
       "      <th>KanyeWest</th>\n",
       "      <td>95475915</td>\n",
       "      <td>36771943</td>\n",
       "      <td>58703972</td>\n",
       "      <td>-21932029</td>\n",
       "      <td>0.070</td>\n",
       "      <td>0.385144</td>\n",
       "    </tr>\n",
       "    <tr>\n",
       "      <th>J.Cole</th>\n",
       "      <td>65649187</td>\n",
       "      <td>27247292</td>\n",
       "      <td>38401895</td>\n",
       "      <td>-11154603</td>\n",
       "      <td>0.077</td>\n",
       "      <td>0.415044</td>\n",
       "    </tr>\n",
       "    <tr>\n",
       "      <th>TravisScott</th>\n",
       "      <td>55914403</td>\n",
       "      <td>29552335</td>\n",
       "      <td>26362068</td>\n",
       "      <td>3190267</td>\n",
       "      <td>0.154</td>\n",
       "      <td>0.528528</td>\n",
       "    </tr>\n",
       "    <tr>\n",
       "      <th>JAY-Z</th>\n",
       "      <td>42521590</td>\n",
       "      <td>21091686</td>\n",
       "      <td>21429904</td>\n",
       "      <td>-338218</td>\n",
       "      <td>0.143</td>\n",
       "      <td>0.496023</td>\n",
       "    </tr>\n",
       "    <tr>\n",
       "      <th>A$APRocky</th>\n",
       "      <td>39388897</td>\n",
       "      <td>21090721</td>\n",
       "      <td>18298176</td>\n",
       "      <td>2792545</td>\n",
       "      <td>0.189</td>\n",
       "      <td>0.535448</td>\n",
       "    </tr>\n",
       "    <tr>\n",
       "      <th>TylerTheCreator</th>\n",
       "      <td>35833158</td>\n",
       "      <td>15580037</td>\n",
       "      <td>20253121</td>\n",
       "      <td>-4673084</td>\n",
       "      <td>0.084</td>\n",
       "      <td>0.434794</td>\n",
       "    </tr>\n",
       "    <tr>\n",
       "      <th>Future</th>\n",
       "      <td>35033339</td>\n",
       "      <td>18750733</td>\n",
       "      <td>16282606</td>\n",
       "      <td>2468127</td>\n",
       "      <td>0.161</td>\n",
       "      <td>0.535225</td>\n",
       "    </tr>\n",
       "  </tbody>\n",
       "</table>\n",
       "</div>"
      ],
      "text/plain": [
       "                    totals     top10  bottom40  difference  weight_topsong  \\\n",
       "Drake            145193691  56062224  89131467   -33069243           0.060   \n",
       "KendrickLamar    119890848  57623168  62267680    -4644512           0.089   \n",
       "Eminem           117834177  57671444  60162733    -2491289           0.143   \n",
       "KanyeWest         95475915  36771943  58703972   -21932029           0.070   \n",
       "J.Cole            65649187  27247292  38401895   -11154603           0.077   \n",
       "TravisScott       55914403  29552335  26362068     3190267           0.154   \n",
       "JAY-Z             42521590  21091686  21429904     -338218           0.143   \n",
       "A$APRocky         39388897  21090721  18298176     2792545           0.189   \n",
       "TylerTheCreator   35833158  15580037  20253121    -4673084           0.084   \n",
       "Future            35033339  18750733  16282606     2468127           0.161   \n",
       "\n",
       "                 weight_top10  \n",
       "Drake                0.386120  \n",
       "KendrickLamar        0.480630  \n",
       "Eminem               0.489429  \n",
       "KanyeWest            0.385144  \n",
       "J.Cole               0.415044  \n",
       "TravisScott          0.528528  \n",
       "JAY-Z                0.496023  \n",
       "A$APRocky            0.535448  \n",
       "TylerTheCreator      0.434794  \n",
       "Future               0.535225  "
      ]
     },
     "execution_count": 15,
     "metadata": {},
     "output_type": "execute_result"
    }
   ],
   "source": [
    "total_df.sort_values(by='totals',ascending=False).head(10)"
   ]
  },
  {
   "cell_type": "code",
   "execution_count": 33,
   "metadata": {},
   "outputs": [],
   "source": [
    "low_diff = total_df.sort_values(by='difference',ascending=True).head(10)\n",
    "high_diff = total_df.sort_values(by='difference',ascending=False).head(10)"
   ]
  },
  {
   "cell_type": "code",
   "execution_count": 16,
   "metadata": {},
   "outputs": [
    {
     "data": {
      "text/plain": [
       "<seaborn.axisgrid.PairGrid at 0x7fbdc288d9d0>"
      ]
     },
     "execution_count": 16,
     "metadata": {},
     "output_type": "execute_result"
    },
    {
     "data": {
      "image/png": "[encoded data removed]",
      "text/plain": [
       "<Figure size 1080x1080 with 42 Axes>"
      ]
     },
     "metadata": {
      "needs_background": "light"
     },
     "output_type": "display_data"
    }
   ],
   "source": [
    "sb.pairplot(data=total_df)"
   ]
  },
  {
   "cell_type": "code",
   "execution_count": 17,
   "metadata": {},
   "outputs": [
    {
     "data": {
      "text/plain": [
       "<AxesSubplot:xlabel='difference', ylabel='Count'>"
      ]
     },
     "execution_count": 17,
     "metadata": {},
     "output_type": "execute_result"
    },
    {
     "data": {
      "image/png": "[encoded data removed]",
      "text/plain": [
       "<Figure size 432x288 with 1 Axes>"
      ]
     },
     "metadata": {
      "needs_background": "light"
     },
     "output_type": "display_data"
    }
   ],
   "source": [
    "sb.histplot(data=total_df, x='difference',bins=30)"
   ]
  },
  {
   "cell_type": "code",
   "execution_count": 10,
   "metadata": {
    "scrolled": true
   },
   "outputs": [],
   "source": [
    "# Sorted by difference\n",
    "low_diff = total_df[total_df['difference']<0].sort_values('difference').head(10)"
   ]
  },
  {
   "cell_type": "code",
   "execution_count": 14,
   "metadata": {},
   "outputs": [
    {
     "data": {
      "text/plain": [
       "<AxesSubplot:xlabel='difference', ylabel='weight_top10'>"
      ]
     },
     "execution_count": 14,
     "metadata": {},
     "output_type": "execute_result"
    },
    {
     "data": {
      "image/png": "[encoded data removed]",
      "text/plain": [
       "<Figure size 432x288 with 1 Axes>"
      ]
     },
     "metadata": {
      "needs_background": "light"
     },
     "output_type": "display_data"
    }
   ],
   "source": [
    "sb.scatterplot(x='difference', y='weight_top10', data=total_df)"
   ]
  },
  {
   "cell_type": "code",
   "execution_count": 19,
   "metadata": {
    "scrolled": false
   },
   "outputs": [
    {
     "data": {
      "text/plain": [
       "<AxesSubplot:xlabel='difference', ylabel='weight_topsong'>"
      ]
     },
     "execution_count": 19,
     "metadata": {},
     "output_type": "execute_result"
    },
    {
     "data": {
      "image/png": "[encoded data removed]",
      "text/plain": [
       "<Figure size 432x288 with 1 Axes>"
      ]
     },
     "metadata": {
      "needs_background": "light"
     },
     "output_type": "display_data"
    }
   ],
   "source": [
    "sb.scatterplot(x='difference', y='weight_topsong', data=total_df)"
   ]
  },
  {
   "cell_type": "code",
   "execution_count": 43,
   "metadata": {},
   "outputs": [],
   "source": [
    "names, totals, weight_topsong, top, bottom, difference, weight_top, total_main_diff, main_count = ([] for i in range(9))\n",
    "\n",
    "count = 0\n",
    "for file in os.listdir():\n",
    "    internal_count = 0\n",
    "    if 'Main' in file:\n",
    "        name = file.split('Main')[0]\n",
    "        names.append(name)\n",
    "        temp = pd.read_excel(file)\n",
    "        internal_count = len(temp)\n",
    "        top_half = int(internal_count/5)\n",
    "        top.append(sum(temp[0:top_half]['PageViews']))\n",
    "        bottom.append(sum(temp[top_half:]['PageViews']))\n",
    "        totals.append(top[count] + bottom[count])\n",
    "        difference.append(sum(temp[0:top_half]['PageViews']) - sum(temp[top_half:]['PageViews']))\n",
    "        weight_topsong.append(round((temp.loc[0]['PageViews'] / sum(temp[0:]['PageViews'] )),3))\n",
    "        weight_top.append(top[count] / (top[count]+bottom[count]))\n",
    "        total_main_diff.append(total_df.loc[name]['totals'] - top[count] - bottom[count])\n",
    "        main_count.append(internal_count)\n",
    "        count+=1\n",
    "        \n",
    "main_df = pd.DataFrame(index = names)\n",
    "\n",
    "main_df['totals'] = totals\n",
    "main_df['top'] = top\n",
    "main_df['bottom'] = bottom\n",
    "main_df['difference'] = difference\n",
    "main_df['weight_topsong'] = weight_topsong\n",
    "main_df['weight_top'] = weight_top\n",
    "main_df['total_main_diff'] = total_main_diff\n",
    "main_df['main_count'] = main_count"
   ]
  }
 ],
 "metadata": {
  "kernelspec": {
   "display_name": "Python 3 (ipykernel)",
   "language": "python",
   "name": "python3"
  },
  "language_info": {
   "codemirror_mode": {
    "name": "ipython",
    "version": 3
   },
   "file_extension": ".py",
   "mimetype": "text/x-python",
   "name": "python",
   "nbconvert_exporter": "python",
   "pygments_lexer": "ipython3",
   "version": "3.9.7"
  }
 },
 "nbformat": 4,
 "nbformat_minor": 4
}
